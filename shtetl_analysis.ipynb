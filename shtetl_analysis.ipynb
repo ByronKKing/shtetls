{
 "cells": [
  {
   "cell_type": "code",
   "execution_count": 1,
   "metadata": {
    "collapsed": true
   },
   "outputs": [],
   "source": [
    "import pandas as pd\n",
    "import re"
   ]
  },
  {
   "cell_type": "code",
   "execution_count": 2,
   "metadata": {
    "collapsed": false
   },
   "outputs": [],
   "source": [
    "df = pd.read_csv(\"~/Desktop/all_towns.csv\",encoding=\"utf-8\")"
   ]
  },
  {
   "cell_type": "code",
   "execution_count": 3,
   "metadata": {
    "collapsed": false
   },
   "outputs": [],
   "source": [
    "df.region = df.region.str.replace(\"Region: \",\"\")"
   ]
  },
  {
   "cell_type": "code",
   "execution_count": 4,
   "metadata": {
    "collapsed": false,
    "scrolled": false
   },
   "outputs": [
    {
     "name": "stdout",
     "output_type": "stream",
     "text": [
      "2\n"
     ]
    }
   ],
   "source": [
    "# get maximum number of populations given for a particular town\n",
    "xx = df.population.str.split(\"\\), \")\n",
    "y = 1\n",
    "for x in xx:\n",
    "    try:\n",
    "        if len(x) > y:\n",
    "            y = len(x)\n",
    "    except:\n",
    "        pass\n",
    "print(y)"
   ]
  },
  {
   "cell_type": "markdown",
   "metadata": {},
   "source": [
    "### Format Population Variables"
   ]
  },
  {
   "cell_type": "code",
   "execution_count": 5,
   "metadata": {
    "collapsed": true
   },
   "outputs": [],
   "source": [
    "popList = df.population.str.split(\"\\), \")"
   ]
  },
  {
   "cell_type": "code",
   "execution_count": 67,
   "metadata": {
    "collapsed": true
   },
   "outputs": [],
   "source": [
    "temp = []\n",
    "for x in popList:\n",
    "    try:\n",
    "        temp.append(x[0])\n",
    "    except:\n",
    "        temp.append(x)\n",
    "\n",
    "pop1 = []\n",
    "for x in temp:\n",
    "    try:\n",
    "        pop1.append(x.split(\"(\")[0])\n",
    "    except:\n",
    "        pop1.append(x)\n",
    "\n",
    "df['pop1'] = pd.Series(pop1)\n",
    "df.pop1 = df.pop1.str.replace(\",\",\"\").str.strip()"
   ]
  },
  {
   "cell_type": "code",
   "execution_count": 99,
   "metadata": {
    "collapsed": false
   },
   "outputs": [],
   "source": [
    "temp = []\n",
    "for x in popList:\n",
    "    try:\n",
    "        temp.append(x[0])\n",
    "    except:\n",
    "        temp.append(x)\n",
    "\n",
    "year1 = []\n",
    "for x in temp:\n",
    "    try:\n",
    "        year1.append(x.split(\"(\")[1])\n",
    "    except:\n",
    "        year1.append(None)\n",
    "\n",
    "df['year1'] = pd.Series(year1)\n",
    "df.year1 = df.year1"
   ]
  },
  {
   "cell_type": "code",
   "execution_count": 69,
   "metadata": {
    "collapsed": false
   },
   "outputs": [],
   "source": [
    "temp = []\n",
    "for x in popList:\n",
    "    try:\n",
    "        temp.append(x[1])\n",
    "    except:\n",
    "        temp.append(x)\n",
    "\n",
    "pop2 = []\n",
    "for x in temp:\n",
    "    try:\n",
    "        pop2.append(x.split(\"(\")[0])\n",
    "    except:\n",
    "        pop2.append(x)\n",
    "\n",
    "df['pop2'] = pd.Series(pop2)\n",
    "df.pop2 = df.pop2.str.replace(\",\",\"\").str.strip()"
   ]
  },
  {
   "cell_type": "code",
   "execution_count": 72,
   "metadata": {
    "collapsed": true
   },
   "outputs": [],
   "source": [
    "temp = []\n",
    "for x in popList:\n",
    "    try:\n",
    "        temp.append(x[1])\n",
    "    except:\n",
    "        temp.append(x)\n",
    "\n",
    "year2 = []\n",
    "for x in temp:\n",
    "    try:\n",
    "        year2.append(x.split(\"(\")[1])\n",
    "    except:\n",
    "        year2.append(x)\n",
    "\n",
    "df['year2'] = pd.Series(year2)\n",
    "df.year2 = df.year2.str.replace(\",\",\"\").str.strip()"
   ]
  },
  {
   "cell_type": "code",
   "execution_count": 106,
   "metadata": {
    "collapsed": false,
    "scrolled": true
   },
   "outputs": [],
   "source": [
    "df['pop1'] = df['pop1'].str.replace(r'\\D+', '')\n",
    "df['year1'] = df['year1'].str.replace(r'\\D+', '')\n",
    "df['pop2'] = df['pop2'].str.replace(r'\\D+', '')\n",
    "df['year2'] = df['year2'].str.replace(r'\\D+', '')"
   ]
  },
  {
   "cell_type": "code",
   "execution_count": 100,
   "metadata": {
    "collapsed": false
   },
   "outputs": [],
   "source": [
    "df['year1'].replace('None', '1900', inplace=True)"
   ]
  },
  {
   "cell_type": "code",
   "execution_count": null,
   "metadata": {
    "collapsed": true
   },
   "outputs": [],
   "source": [
    "df.loc[df['year1'].isnull(), 'year1'] = '1900'"
   ]
  },
  {
   "cell_type": "code",
   "execution_count": 117,
   "metadata": {
    "collapsed": false
   },
   "outputs": [
    {
     "data": {
      "text/html": [
       "<div>\n",
       "<table border=\"1\" class=\"dataframe\">\n",
       "  <thead>\n",
       "    <tr style=\"text-align: right;\">\n",
       "      <th></th>\n",
       "      <th>population</th>\n",
       "      <th>pop1</th>\n",
       "      <th>year1</th>\n",
       "      <th>pop2</th>\n",
       "      <th>year2</th>\n",
       "    </tr>\n",
       "  </thead>\n",
       "  <tbody>\n",
       "    <tr>\n",
       "      <th>0</th>\n",
       "      <td>1,673</td>\n",
       "      <td>1673</td>\n",
       "      <td>1900</td>\n",
       "      <td>NaN</td>\n",
       "      <td>NaN</td>\n",
       "    </tr>\n",
       "    <tr>\n",
       "      <th>1</th>\n",
       "      <td>586</td>\n",
       "      <td>586</td>\n",
       "      <td>1900</td>\n",
       "      <td>NaN</td>\n",
       "      <td>NaN</td>\n",
       "    </tr>\n",
       "    <tr>\n",
       "      <th>2</th>\n",
       "      <td>575 (in 1897), 1,251 (in 1921)</td>\n",
       "      <td>575</td>\n",
       "      <td>1897</td>\n",
       "      <td>1251</td>\n",
       "      <td>1921</td>\n",
       "    </tr>\n",
       "    <tr>\n",
       "      <th>3</th>\n",
       "      <td>3,637 (in 1897), 2,397 (in 1931)</td>\n",
       "      <td>3637</td>\n",
       "      <td>1897</td>\n",
       "      <td>2397</td>\n",
       "      <td>1931</td>\n",
       "    </tr>\n",
       "    <tr>\n",
       "      <th>4</th>\n",
       "      <td>240 (in 1857), 237 (in 1921)</td>\n",
       "      <td>240</td>\n",
       "      <td>1857</td>\n",
       "      <td>237</td>\n",
       "      <td>1921</td>\n",
       "    </tr>\n",
       "  </tbody>\n",
       "</table>\n",
       "</div>"
      ],
      "text/plain": [
       "                         population  pop1 year1  pop2 year2\n",
       "0                             1,673  1673  1900   NaN   NaN\n",
       "1                               586   586  1900   NaN   NaN\n",
       "2    575 (in 1897), 1,251 (in 1921)   575  1897  1251  1921\n",
       "3  3,637 (in 1897), 2,397 (in 1931)  3637  1897  2397  1931\n",
       "4      240 (in 1857), 237 (in 1921)   240  1857   237  1921"
      ]
     },
     "execution_count": 117,
     "metadata": {},
     "output_type": "execute_result"
    }
   ],
   "source": [
    "df[['population','pop1','year1','pop2','year2']].head()"
   ]
  }
 ],
 "metadata": {
  "kernelspec": {
   "display_name": "Python 3",
   "language": "python",
   "name": "python3"
  },
  "language_info": {
   "codemirror_mode": {
    "name": "ipython",
    "version": 3
   },
   "file_extension": ".py",
   "mimetype": "text/x-python",
   "name": "python",
   "nbconvert_exporter": "python",
   "pygments_lexer": "ipython3",
   "version": "3.5.2"
  }
 },
 "nbformat": 4,
 "nbformat_minor": 1
}
