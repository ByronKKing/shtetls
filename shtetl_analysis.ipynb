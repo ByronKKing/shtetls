{
 "cells": [
  {
   "cell_type": "code",
   "execution_count": 1,
   "metadata": {
    "collapsed": true
   },
   "outputs": [],
   "source": [
    "import pandas as pd\n",
    "import re"
   ]
  },
  {
   "cell_type": "code",
   "execution_count": 2,
   "metadata": {
    "collapsed": false
   },
   "outputs": [],
   "source": [
    "df = pd.read_csv(\"~/Desktop/all_towns.csv\",encoding=\"utf-8\")"
   ]
  },
  {
   "cell_type": "code",
   "execution_count": 3,
   "metadata": {
    "collapsed": false
   },
   "outputs": [],
   "source": [
    "df.region = df.region.str.replace(\"Region: \",\"\")"
   ]
  },
  {
   "cell_type": "markdown",
   "metadata": {},
   "source": [
    "### Format Population Variables"
   ]
  },
  {
   "cell_type": "code",
   "execution_count": null,
   "metadata": {
    "collapsed": true
   },
   "outputs": [],
   "source": [
    "# get maximum number of populations given for a particular town\n",
    "xx = df.population.str.split(\"\\), \")\n",
    "y = 1\n",
    "for x in xx:\n",
    "    try:\n",
    "        if len(x) > y:\n",
    "            y = len(x)\n",
    "    except:\n",
    "        pass\n",
    "print(y)"
   ]
  },
  {
   "cell_type": "code",
   "execution_count": 5,
   "metadata": {
    "collapsed": true
   },
   "outputs": [],
   "source": [
    "popList = df.population.str.split(\"\\), \")"
   ]
  },
  {
   "cell_type": "code",
   "execution_count": 67,
   "metadata": {
    "collapsed": true
   },
   "outputs": [],
   "source": [
    "temp = []\n",
    "for x in popList:\n",
    "    try:\n",
    "        temp.append(x[0])\n",
    "    except:\n",
    "        temp.append(x)\n",
    "\n",
    "pop1 = []\n",
    "for x in temp:\n",
    "    try:\n",
    "        pop1.append(x.split(\"(\")[0])\n",
    "    except:\n",
    "        pop1.append(x)\n",
    "\n",
    "df['pop1'] = pd.Series(pop1)\n",
    "df.pop1 = df.pop1.str.replace(\",\",\"\").str.strip()"
   ]
  },
  {
   "cell_type": "code",
   "execution_count": 99,
   "metadata": {
    "collapsed": false
   },
   "outputs": [],
   "source": [
    "temp = []\n",
    "for x in popList:\n",
    "    try:\n",
    "        temp.append(x[0])\n",
    "    except:\n",
    "        temp.append(x)\n",
    "\n",
    "year1 = []\n",
    "for x in temp:\n",
    "    try:\n",
    "        year1.append(x.split(\"(\")[1])\n",
    "    except:\n",
    "        year1.append(None)\n",
    "\n",
    "df['year1'] = pd.Series(year1)\n",
    "df.year1 = df.year1"
   ]
  },
  {
   "cell_type": "code",
   "execution_count": 69,
   "metadata": {
    "collapsed": false
   },
   "outputs": [],
   "source": [
    "temp = []\n",
    "for x in popList:\n",
    "    try:\n",
    "        temp.append(x[1])\n",
    "    except:\n",
    "        temp.append(x)\n",
    "\n",
    "pop2 = []\n",
    "for x in temp:\n",
    "    try:\n",
    "        pop2.append(x.split(\"(\")[0])\n",
    "    except:\n",
    "        pop2.append(x)\n",
    "\n",
    "df['pop2'] = pd.Series(pop2)\n",
    "df.pop2 = df.pop2.str.replace(\",\",\"\").str.strip()"
   ]
  },
  {
   "cell_type": "code",
   "execution_count": 72,
   "metadata": {
    "collapsed": true
   },
   "outputs": [],
   "source": [
    "temp = []\n",
    "for x in popList:\n",
    "    try:\n",
    "        temp.append(x[1])\n",
    "    except:\n",
    "        temp.append(x)\n",
    "\n",
    "year2 = []\n",
    "for x in temp:\n",
    "    try:\n",
    "        year2.append(x.split(\"(\")[1])\n",
    "    except:\n",
    "        year2.append(x)\n",
    "\n",
    "df['year2'] = pd.Series(year2)\n",
    "df.year2 = df.year2.str.replace(\",\",\"\").str.strip()"
   ]
  },
  {
   "cell_type": "code",
   "execution_count": 137,
   "metadata": {
    "collapsed": false,
    "scrolled": true
   },
   "outputs": [],
   "source": [
    "df['pop1'] = df['pop1'].str.replace(r'\\D+', '')\n",
    "df['year1'] = df['year1'].str.replace(r'\\D+', '')\n",
    "df['pop2'] = df['pop2'].str.replace(r'\\D+', '')\n",
    "df['year2'] = df['year2'].str.replace(r'\\D+', '')"
   ]
  },
  {
   "cell_type": "code",
   "execution_count": 100,
   "metadata": {
    "collapsed": false
   },
   "outputs": [],
   "source": [
    "df['year1'].replace('None', '1900', inplace=True)"
   ]
  },
  {
   "cell_type": "code",
   "execution_count": null,
   "metadata": {
    "collapsed": true
   },
   "outputs": [],
   "source": [
    "df.loc[df['year1'].isnull(), 'year1'] = '1900'"
   ]
  },
  {
   "cell_type": "code",
   "execution_count": 117,
   "metadata": {
    "collapsed": false
   },
   "outputs": [
    {
     "data": {
      "text/html": [
       "<div>\n",
       "<table border=\"1\" class=\"dataframe\">\n",
       "  <thead>\n",
       "    <tr style=\"text-align: right;\">\n",
       "      <th></th>\n",
       "      <th>population</th>\n",
       "      <th>pop1</th>\n",
       "      <th>year1</th>\n",
       "      <th>pop2</th>\n",
       "      <th>year2</th>\n",
       "    </tr>\n",
       "  </thead>\n",
       "  <tbody>\n",
       "    <tr>\n",
       "      <th>0</th>\n",
       "      <td>1,673</td>\n",
       "      <td>1673</td>\n",
       "      <td>1900</td>\n",
       "      <td>NaN</td>\n",
       "      <td>NaN</td>\n",
       "    </tr>\n",
       "    <tr>\n",
       "      <th>1</th>\n",
       "      <td>586</td>\n",
       "      <td>586</td>\n",
       "      <td>1900</td>\n",
       "      <td>NaN</td>\n",
       "      <td>NaN</td>\n",
       "    </tr>\n",
       "    <tr>\n",
       "      <th>2</th>\n",
       "      <td>575 (in 1897), 1,251 (in 1921)</td>\n",
       "      <td>575</td>\n",
       "      <td>1897</td>\n",
       "      <td>1251</td>\n",
       "      <td>1921</td>\n",
       "    </tr>\n",
       "    <tr>\n",
       "      <th>3</th>\n",
       "      <td>3,637 (in 1897), 2,397 (in 1931)</td>\n",
       "      <td>3637</td>\n",
       "      <td>1897</td>\n",
       "      <td>2397</td>\n",
       "      <td>1931</td>\n",
       "    </tr>\n",
       "    <tr>\n",
       "      <th>4</th>\n",
       "      <td>240 (in 1857), 237 (in 1921)</td>\n",
       "      <td>240</td>\n",
       "      <td>1857</td>\n",
       "      <td>237</td>\n",
       "      <td>1921</td>\n",
       "    </tr>\n",
       "  </tbody>\n",
       "</table>\n",
       "</div>"
      ],
      "text/plain": [
       "                         population  pop1 year1  pop2 year2\n",
       "0                             1,673  1673  1900   NaN   NaN\n",
       "1                               586   586  1900   NaN   NaN\n",
       "2    575 (in 1897), 1,251 (in 1921)   575  1897  1251  1921\n",
       "3  3,637 (in 1897), 2,397 (in 1931)  3637  1897  2397  1931\n",
       "4      240 (in 1857), 237 (in 1921)   240  1857   237  1921"
      ]
     },
     "execution_count": 117,
     "metadata": {},
     "output_type": "execute_result"
    }
   ],
   "source": [
    "df[['population','pop1','year1','pop2','year2']].head()"
   ]
  },
  {
   "cell_type": "markdown",
   "metadata": {},
   "source": [
    "### Summary Stats"
   ]
  },
  {
   "cell_type": "code",
   "execution_count": 130,
   "metadata": {
    "collapsed": false
   },
   "outputs": [
    {
     "data": {
      "text/plain": [
       "province\n",
       "?              1396.937500\n",
       "Belarus                NaN\n",
       "Bialystok      3008.435897\n",
       "Bydgoszcz       951.545455\n",
       "Gdansk          572.300000\n",
       "Katowice       1903.409091\n",
       "Kielce         2074.209677\n",
       "Koszalin        409.615385\n",
       "Krakow         3978.588235\n",
       "Lithuania              NaN\n",
       "Lodz           4189.764706\n",
       "Lublin         2383.014286\n",
       "Lwow          23184.000000\n",
       "Olsztyn         155.700000\n",
       "Opole           511.333333\n",
       "Poznan         1847.125000\n",
       "Rzeszow        2560.642857\n",
       "Szczecin        466.200000\n",
       "Ukraine        2687.511111\n",
       "Warszawa     123094.852941\n",
       "Wroclaw        1388.333333\n",
       "Zielona         371.000000\n",
       "Name: pop1, dtype: float64"
      ]
     },
     "execution_count": 130,
     "metadata": {},
     "output_type": "execute_result"
    }
   ],
   "source": [
    "df['pop1'].astype(float).groupby(df['province']).mean()"
   ]
  },
  {
   "cell_type": "code",
   "execution_count": 132,
   "metadata": {
    "collapsed": false
   },
   "outputs": [
    {
     "data": {
      "text/plain": [
       "gubernia\n",
       "?               1416.827586\n",
       "Galicia         2819.133333\n",
       "Grodno          8828.857143\n",
       "Kalisz          1668.366667\n",
       "Kielce          2226.652174\n",
       "Lomza           2351.739130\n",
       "Lublin          2612.743590\n",
       "Lwow             913.000000\n",
       "Piotrkow        5916.718750\n",
       "Plock           2150.333333\n",
       "Prussia          813.300000\n",
       "Radom           2594.850000\n",
       "Siedlce       503376.000000\n",
       "Stanislawo      3323.000000\n",
       "Suwalki         1569.333333\n",
       "Volynia         6539.000000\n",
       "Warszawa        7367.025641\n",
       "Name: pop1, dtype: float64"
      ]
     },
     "execution_count": 132,
     "metadata": {},
     "output_type": "execute_result"
    }
   ],
   "source": [
    "df['pop1'].astype(float).groupby(df['gubernia']).mean()"
   ]
  },
  {
   "cell_type": "code",
   "execution_count": 133,
   "metadata": {
    "collapsed": false
   },
   "outputs": [
    {
     "data": {
      "text/plain": [
       "region\n",
       "Germany           176.000000\n",
       "Grodno           6271.181818\n",
       "Kalisz           1689.333333\n",
       "Kherson          2642.000000\n",
       "Kielce           2036.911765\n",
       "Krakow           2554.862069\n",
       "Lomza            2324.500000\n",
       "Lublin           2126.810345\n",
       "Lwow             3086.160000\n",
       "Piotrkow         4750.166667\n",
       "Plock            2176.722222\n",
       "Prussia           952.691729\n",
       "Radom            2143.805556\n",
       "Siedlce        260620.838710\n",
       "Silesia           266.000000\n",
       "Stanislawow      3754.238095\n",
       "Suwalki          1436.666667\n",
       "Tarnopol         2428.622222\n",
       "Volhynia         6539.000000\n",
       "Warszawa         6033.769231\n",
       "Name: pop1, dtype: float64"
      ]
     },
     "execution_count": 133,
     "metadata": {},
     "output_type": "execute_result"
    }
   ],
   "source": [
    "df['pop1'].astype(float).groupby(df['region']).mean()"
   ]
  },
  {
   "cell_type": "code",
   "execution_count": 164,
   "metadata": {
    "collapsed": false
   },
   "outputs": [
    {
     "data": {
      "text/plain": [
       "region\n",
       "Germany           176.000000\n",
       "Grodno           6271.181818\n",
       "Kalisz           1689.333333\n",
       "Kherson          2642.000000\n",
       "Kielce           2036.911765\n",
       "Krakow           2554.862069\n",
       "Lomza            2324.500000\n",
       "Lublin           2126.810345\n",
       "Lwow             3086.160000\n",
       "Piotrkow         4750.166667\n",
       "Plock            2176.722222\n",
       "Prussia           952.691729\n",
       "Radom            2143.805556\n",
       "Siedlce        260620.838710\n",
       "Silesia           266.000000\n",
       "Stanislawow      3754.238095\n",
       "Suwalki          1436.666667\n",
       "Tarnopol         2428.622222\n",
       "Volhynia         6539.000000\n",
       "Warszawa         6033.769231\n",
       "Name: pop1, dtype: float64"
      ]
     },
     "execution_count": 164,
     "metadata": {},
     "output_type": "execute_result"
    }
   ],
   "source": [
    "df['pop1'].astype(float).groupby(df['region']).mean()"
   ]
  },
  {
   "cell_type": "code",
   "execution_count": 177,
   "metadata": {
    "collapsed": false
   },
   "outputs": [],
   "source": [
    "df['pop_diff'] = df['pop1'].astype(float) - df['pop2'].astype(float)"
   ]
  },
  {
   "cell_type": "code",
   "execution_count": 168,
   "metadata": {
    "collapsed": false
   },
   "outputs": [
    {
     "data": {
      "text/plain": [
       "-590.5256064690027"
      ]
     },
     "execution_count": 168,
     "metadata": {},
     "output_type": "execute_result"
    }
   ],
   "source": [
    "df['pop_diff'].mean()"
   ]
  },
  {
   "cell_type": "code",
   "execution_count": 171,
   "metadata": {
    "collapsed": false
   },
   "outputs": [
    {
     "data": {
      "text/html": [
       "<div>\n",
       "<table border=\"1\" class=\"dataframe\">\n",
       "  <thead>\n",
       "    <tr style=\"text-align: right;\">\n",
       "      <th></th>\n",
       "      <th>gubernia</th>\n",
       "      <th>name</th>\n",
       "      <th>region</th>\n",
       "      <th>province</th>\n",
       "      <th>diff</th>\n",
       "    </tr>\n",
       "  </thead>\n",
       "  <tbody>\n",
       "    <tr>\n",
       "      <th>309</th>\n",
       "      <td>Kalisz</td>\n",
       "      <td>Kepno</td>\n",
       "      <td>Prussia</td>\n",
       "      <td>Poznan</td>\n",
       "      <td>3261.0</td>\n",
       "    </tr>\n",
       "    <tr>\n",
       "      <th>34</th>\n",
       "      <td>Grodno</td>\n",
       "      <td>Bialystok</td>\n",
       "      <td>Grodno</td>\n",
       "      <td>Bialystok</td>\n",
       "      <td>2843.0</td>\n",
       "    </tr>\n",
       "    <tr>\n",
       "      <th>327</th>\n",
       "      <td>Grodno</td>\n",
       "      <td>Knyszyn</td>\n",
       "      <td>Grodno</td>\n",
       "      <td>?</td>\n",
       "      <td>2307.0</td>\n",
       "    </tr>\n",
       "    <tr>\n",
       "      <th>64</th>\n",
       "      <td>?</td>\n",
       "      <td>Bolszowce</td>\n",
       "      <td>Prussia</td>\n",
       "      <td>?</td>\n",
       "      <td>2240.0</td>\n",
       "    </tr>\n",
       "    <tr>\n",
       "      <th>431</th>\n",
       "      <td>?</td>\n",
       "      <td>Leszno</td>\n",
       "      <td>Prussia</td>\n",
       "      <td>?</td>\n",
       "      <td>2240.0</td>\n",
       "    </tr>\n",
       "  </tbody>\n",
       "</table>\n",
       "</div>"
      ],
      "text/plain": [
       "    gubernia       name   region   province    diff\n",
       "309   Kalisz      Kepno  Prussia     Poznan  3261.0\n",
       "34    Grodno  Bialystok   Grodno  Bialystok  2843.0\n",
       "327   Grodno    Knyszyn   Grodno          ?  2307.0\n",
       "64         ?  Bolszowce  Prussia          ?  2240.0\n",
       "431        ?     Leszno  Prussia          ?  2240.0"
      ]
     },
     "execution_count": 171,
     "metadata": {},
     "output_type": "execute_result"
    }
   ],
   "source": [
    "df[df['pop_diff'].notnull()][['gubernia','name','region','province','pop_diff']].sort_values(by=['pop_diff'],ascending=False).head()"
   ]
  },
  {
   "cell_type": "code",
   "execution_count": 172,
   "metadata": {
    "collapsed": false
   },
   "outputs": [
    {
     "data": {
      "text/html": [
       "<div>\n",
       "<table border=\"1\" class=\"dataframe\">\n",
       "  <thead>\n",
       "    <tr style=\"text-align: right;\">\n",
       "      <th></th>\n",
       "      <th>gubernia</th>\n",
       "      <th>name</th>\n",
       "      <th>region</th>\n",
       "      <th>province</th>\n",
       "      <th>diff</th>\n",
       "    </tr>\n",
       "  </thead>\n",
       "  <tbody>\n",
       "    <tr>\n",
       "      <th>444</th>\n",
       "      <td>Piotrkow</td>\n",
       "      <td>Lodz</td>\n",
       "      <td>Piotrkow</td>\n",
       "      <td>Lodz</td>\n",
       "      <td>-104310.0</td>\n",
       "    </tr>\n",
       "    <tr>\n",
       "      <th>457</th>\n",
       "      <td>Lublin</td>\n",
       "      <td>Lublin</td>\n",
       "      <td>Lublin</td>\n",
       "      <td>Lublin</td>\n",
       "      <td>-19244.0</td>\n",
       "    </tr>\n",
       "    <tr>\n",
       "      <th>668</th>\n",
       "      <td>Radom</td>\n",
       "      <td>Radom</td>\n",
       "      <td>Radom</td>\n",
       "      <td>Kielce</td>\n",
       "      <td>-13882.0</td>\n",
       "    </tr>\n",
       "    <tr>\n",
       "      <th>139</th>\n",
       "      <td>Piotrkow</td>\n",
       "      <td>Czestochowa</td>\n",
       "      <td>Piotrkow</td>\n",
       "      <td>Katowice</td>\n",
       "      <td>-13824.0</td>\n",
       "    </tr>\n",
       "    <tr>\n",
       "      <th>311</th>\n",
       "      <td>Kielce</td>\n",
       "      <td>Kielce</td>\n",
       "      <td>Kielce</td>\n",
       "      <td>Kielce</td>\n",
       "      <td>-11910.0</td>\n",
       "    </tr>\n",
       "  </tbody>\n",
       "</table>\n",
       "</div>"
      ],
      "text/plain": [
       "     gubernia         name    region  province      diff\n",
       "444  Piotrkow         Lodz  Piotrkow      Lodz -104310.0\n",
       "457    Lublin       Lublin    Lublin    Lublin  -19244.0\n",
       "668     Radom        Radom     Radom    Kielce  -13882.0\n",
       "139  Piotrkow  Czestochowa  Piotrkow  Katowice  -13824.0\n",
       "311    Kielce       Kielce    Kielce    Kielce  -11910.0"
      ]
     },
     "execution_count": 172,
     "metadata": {},
     "output_type": "execute_result"
    }
   ],
   "source": [
    "df[df['pop_diff'].notnull()][['gubernia','name','region','province','pop_diff']].sort_values(by=['pop_diff'],ascending=True).head()"
   ]
  },
  {
   "cell_type": "code",
   "execution_count": 174,
   "metadata": {
    "collapsed": false
   },
   "outputs": [],
   "source": [
    "df['year_diff'] = df['year2'].astype(float) - df['year1'].astype(float)"
   ]
  },
  {
   "cell_type": "code",
   "execution_count": 178,
   "metadata": {
    "collapsed": false,
    "scrolled": true
   },
   "outputs": [
    {
     "data": {
      "text/html": [
       "<div>\n",
       "<table border=\"1\" class=\"dataframe\">\n",
       "  <thead>\n",
       "    <tr style=\"text-align: right;\">\n",
       "      <th></th>\n",
       "      <th>gubernia</th>\n",
       "      <th>name</th>\n",
       "      <th>region</th>\n",
       "      <th>province</th>\n",
       "      <th>year1</th>\n",
       "      <th>year2</th>\n",
       "      <th>year_diff</th>\n",
       "      <th>pop_diff</th>\n",
       "    </tr>\n",
       "  </thead>\n",
       "  <tbody>\n",
       "    <tr>\n",
       "      <th>197</th>\n",
       "      <td>?</td>\n",
       "      <td>Glogow</td>\n",
       "      <td>Prussia</td>\n",
       "      <td>Zielona</td>\n",
       "      <td>1756</td>\n",
       "      <td>1900</td>\n",
       "      <td>144.0</td>\n",
       "      <td>928.0</td>\n",
       "    </tr>\n",
       "    <tr>\n",
       "      <th>229</th>\n",
       "      <td>Radom</td>\n",
       "      <td>Granica</td>\n",
       "      <td>Radom</td>\n",
       "      <td>Kielce</td>\n",
       "      <td>1827</td>\n",
       "      <td>1921</td>\n",
       "      <td>94.0</td>\n",
       "      <td>188.0</td>\n",
       "    </tr>\n",
       "    <tr>\n",
       "      <th>849</th>\n",
       "      <td>?</td>\n",
       "      <td>Szydlow</td>\n",
       "      <td>Kielce</td>\n",
       "      <td>Kielce</td>\n",
       "      <td>1827</td>\n",
       "      <td>1921</td>\n",
       "      <td>94.0</td>\n",
       "      <td>479.0</td>\n",
       "    </tr>\n",
       "    <tr>\n",
       "      <th>657</th>\n",
       "      <td>?</td>\n",
       "      <td>Pszczew</td>\n",
       "      <td>Prussia</td>\n",
       "      <td>Zielona</td>\n",
       "      <td>1840</td>\n",
       "      <td>1933</td>\n",
       "      <td>93.0</td>\n",
       "      <td>145.0</td>\n",
       "    </tr>\n",
       "    <tr>\n",
       "      <th>210</th>\n",
       "      <td>?</td>\n",
       "      <td>Goleniow</td>\n",
       "      <td>Prussia</td>\n",
       "      <td>Szczecin</td>\n",
       "      <td>1840</td>\n",
       "      <td>1933</td>\n",
       "      <td>93.0</td>\n",
       "      <td>92.0</td>\n",
       "    </tr>\n",
       "  </tbody>\n",
       "</table>\n",
       "</div>"
      ],
      "text/plain": [
       "    gubernia      name   region  province year1 year2  year_diff  pop_diff\n",
       "197        ?    Glogow  Prussia   Zielona  1756  1900      144.0     928.0\n",
       "229    Radom   Granica    Radom    Kielce  1827  1921       94.0     188.0\n",
       "849        ?   Szydlow   Kielce    Kielce  1827  1921       94.0     479.0\n",
       "657        ?   Pszczew  Prussia   Zielona  1840  1933       93.0     145.0\n",
       "210        ?  Goleniow  Prussia  Szczecin  1840  1933       93.0      92.0"
      ]
     },
     "execution_count": 178,
     "metadata": {},
     "output_type": "execute_result"
    }
   ],
   "source": [
    "df[df['year_diff'].notnull()][['gubernia','name','region','province','year1','year2','year_diff','pop_diff']].sort_values(by=['year_diff'],ascending=False).head()"
   ]
  },
  {
   "cell_type": "code",
   "execution_count": null,
   "metadata": {
    "collapsed": true
   },
   "outputs": [],
   "source": []
  },
  {
   "cell_type": "code",
   "execution_count": null,
   "metadata": {
    "collapsed": true
   },
   "outputs": [],
   "source": []
  },
  {
   "cell_type": "code",
   "execution_count": null,
   "metadata": {
    "collapsed": true
   },
   "outputs": [],
   "source": []
  },
  {
   "cell_type": "code",
   "execution_count": 182,
   "metadata": {
    "collapsed": false
   },
   "outputs": [
    {
     "data": {
      "text/plain": [
       "Index(['alt_name_x', 'gubernia', 'href', 'lat', 'long', 'name', 'province',\n",
       "       'google_maps', 'jewish_gen', 'usbgn', 'alt_name_y', 'notes',\n",
       "       'population', 'region', 'pop1', 'year1', 'pop2', 'year2', 'diff',\n",
       "       'year_diff', 'pop_diff'],\n",
       "      dtype='object')"
      ]
     },
     "execution_count": 182,
     "metadata": {},
     "output_type": "execute_result"
    }
   ],
   "source": [
    "df.columns"
   ]
  }
 ],
 "metadata": {
  "kernelspec": {
   "display_name": "Python 3",
   "language": "python",
   "name": "python3"
  },
  "language_info": {
   "codemirror_mode": {
    "name": "ipython",
    "version": 3
   },
   "file_extension": ".py",
   "mimetype": "text/x-python",
   "name": "python",
   "nbconvert_exporter": "python",
   "pygments_lexer": "ipython3",
   "version": "3.5.2"
  }
 },
 "nbformat": 4,
 "nbformat_minor": 1
}
