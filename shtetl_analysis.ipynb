{
 "cells": [
  {
   "cell_type": "code",
   "execution_count": 72,
   "metadata": {
    "collapsed": true
   },
   "outputs": [],
   "source": [
    "import pandas as pd\n",
    "import re"
   ]
  },
  {
   "cell_type": "code",
   "execution_count": 73,
   "metadata": {
    "collapsed": false
   },
   "outputs": [],
   "source": [
    "df = pd.read_csv(\"~/shtetls/data/all_towns.csv\",encoding=\"utf-8\")"
   ]
  },
  {
   "cell_type": "code",
   "execution_count": 74,
   "metadata": {
    "collapsed": false
   },
   "outputs": [],
   "source": [
    "df.region = df.region.str.replace(\"Region: \",\"\")"
   ]
  },
  {
   "cell_type": "markdown",
   "metadata": {},
   "source": [
    "### Format Population Variables"
   ]
  },
  {
   "cell_type": "code",
   "execution_count": 75,
   "metadata": {
    "collapsed": false
   },
   "outputs": [
    {
     "name": "stdout",
     "output_type": "stream",
     "text": [
      "2\n"
     ]
    }
   ],
   "source": [
    "# get maximum number of populations given for a particular town\n",
    "xx = df.population.str.split(\"\\), \")\n",
    "y = 1\n",
    "for x in xx:\n",
    "    try:\n",
    "        if len(x) > y:\n",
    "            y = len(x)\n",
    "    except:\n",
    "        pass\n",
    "print(y)"
   ]
  },
  {
   "cell_type": "code",
   "execution_count": 76,
   "metadata": {
    "collapsed": true
   },
   "outputs": [],
   "source": [
    "popList = df.population.str.split(\"\\), \")"
   ]
  },
  {
   "cell_type": "code",
   "execution_count": 77,
   "metadata": {
    "collapsed": true
   },
   "outputs": [],
   "source": [
    "temp = []\n",
    "for x in popList:\n",
    "    try:\n",
    "        temp.append(x[0])\n",
    "    except:\n",
    "        temp.append(x)\n",
    "\n",
    "pop1 = []\n",
    "for x in temp:\n",
    "    try:\n",
    "        pop1.append(x.split(\"(\")[0])\n",
    "    except:\n",
    "        pop1.append(x)\n",
    "\n",
    "df['pop1'] = pd.Series(pop1)\n",
    "df.pop1 = df.pop1.str.replace(\",\",\"\").str.strip()"
   ]
  },
  {
   "cell_type": "code",
   "execution_count": 78,
   "metadata": {
    "collapsed": false
   },
   "outputs": [],
   "source": [
    "temp = []\n",
    "for x in popList:\n",
    "    try:\n",
    "        temp.append(x[0])\n",
    "    except:\n",
    "        temp.append(x)\n",
    "\n",
    "year1 = []\n",
    "for x in temp:\n",
    "    try:\n",
    "        year1.append(x.split(\"(\")[1])\n",
    "    except:\n",
    "        year1.append(None)\n",
    "\n",
    "df['year1'] = pd.Series(year1)\n",
    "df.year1 = df.year1"
   ]
  },
  {
   "cell_type": "code",
   "execution_count": 79,
   "metadata": {
    "collapsed": false
   },
   "outputs": [],
   "source": [
    "temp = []\n",
    "for x in popList:\n",
    "    try:\n",
    "        temp.append(x[1])\n",
    "    except:\n",
    "        temp.append(x)\n",
    "\n",
    "pop2 = []\n",
    "for x in temp:\n",
    "    try:\n",
    "        pop2.append(x.split(\"(\")[0])\n",
    "    except:\n",
    "        pop2.append(x)\n",
    "\n",
    "df['pop2'] = pd.Series(pop2)\n",
    "df.pop2 = df.pop2.str.replace(\",\",\"\").str.strip()"
   ]
  },
  {
   "cell_type": "code",
   "execution_count": 80,
   "metadata": {
    "collapsed": true
   },
   "outputs": [],
   "source": [
    "temp = []\n",
    "for x in popList:\n",
    "    try:\n",
    "        temp.append(x[1])\n",
    "    except:\n",
    "        temp.append(x)\n",
    "\n",
    "year2 = []\n",
    "for x in temp:\n",
    "    try:\n",
    "        year2.append(x.split(\"(\")[1])\n",
    "    except:\n",
    "        year2.append(x)\n",
    "\n",
    "df['year2'] = pd.Series(year2)\n",
    "df.year2 = df.year2.str.replace(\",\",\"\").str.strip()"
   ]
  },
  {
   "cell_type": "code",
   "execution_count": 81,
   "metadata": {
    "collapsed": false,
    "scrolled": true
   },
   "outputs": [],
   "source": [
    "df['pop1'] = df['pop1'].str.replace(r'\\D+', '')\n",
    "df['year1'] = df['year1'].str.replace(r'\\D+', '')\n",
    "df['pop2'] = df['pop2'].str.replace(r'\\D+', '')\n",
    "df['year2'] = df['year2'].str.replace(r'\\D+', '')"
   ]
  },
  {
   "cell_type": "code",
   "execution_count": 82,
   "metadata": {
    "collapsed": false
   },
   "outputs": [],
   "source": [
    "df['year1'].replace('None', '1900', inplace=True)"
   ]
  },
  {
   "cell_type": "code",
   "execution_count": 83,
   "metadata": {
    "collapsed": true
   },
   "outputs": [],
   "source": [
    "df.loc[df['year1'].isnull(), 'year1'] = '1900'"
   ]
  },
  {
   "cell_type": "code",
   "execution_count": 84,
   "metadata": {
    "collapsed": false
   },
   "outputs": [
    {
     "data": {
      "text/html": [
       "<div>\n",
       "<table border=\"1\" class=\"dataframe\">\n",
       "  <thead>\n",
       "    <tr style=\"text-align: right;\">\n",
       "      <th></th>\n",
       "      <th>population</th>\n",
       "      <th>pop1</th>\n",
       "      <th>year1</th>\n",
       "      <th>pop2</th>\n",
       "      <th>year2</th>\n",
       "    </tr>\n",
       "  </thead>\n",
       "  <tbody>\n",
       "    <tr>\n",
       "      <th>0</th>\n",
       "      <td>1,673</td>\n",
       "      <td>1673</td>\n",
       "      <td>1900</td>\n",
       "      <td>NaN</td>\n",
       "      <td>NaN</td>\n",
       "    </tr>\n",
       "    <tr>\n",
       "      <th>1</th>\n",
       "      <td>586</td>\n",
       "      <td>586</td>\n",
       "      <td>1900</td>\n",
       "      <td>NaN</td>\n",
       "      <td>NaN</td>\n",
       "    </tr>\n",
       "    <tr>\n",
       "      <th>2</th>\n",
       "      <td>575 (in 1897), 1,251 (in 1921)</td>\n",
       "      <td>575</td>\n",
       "      <td>1897</td>\n",
       "      <td>1251</td>\n",
       "      <td>1921</td>\n",
       "    </tr>\n",
       "    <tr>\n",
       "      <th>3</th>\n",
       "      <td>3,637 (in 1897), 2,397 (in 1931)</td>\n",
       "      <td>3637</td>\n",
       "      <td>1897</td>\n",
       "      <td>2397</td>\n",
       "      <td>1931</td>\n",
       "    </tr>\n",
       "    <tr>\n",
       "      <th>4</th>\n",
       "      <td>240 (in 1857), 237 (in 1921)</td>\n",
       "      <td>240</td>\n",
       "      <td>1857</td>\n",
       "      <td>237</td>\n",
       "      <td>1921</td>\n",
       "    </tr>\n",
       "  </tbody>\n",
       "</table>\n",
       "</div>"
      ],
      "text/plain": [
       "                         population  pop1 year1  pop2 year2\n",
       "0                             1,673  1673  1900   NaN   NaN\n",
       "1                               586   586  1900   NaN   NaN\n",
       "2    575 (in 1897), 1,251 (in 1921)   575  1897  1251  1921\n",
       "3  3,637 (in 1897), 2,397 (in 1931)  3637  1897  2397  1931\n",
       "4      240 (in 1857), 237 (in 1921)   240  1857   237  1921"
      ]
     },
     "execution_count": 84,
     "metadata": {},
     "output_type": "execute_result"
    }
   ],
   "source": [
    "df[['population','pop1','year1','pop2','year2']].head()"
   ]
  },
  {
   "cell_type": "markdown",
   "metadata": {},
   "source": [
    "### Summary Stats"
   ]
  },
  {
   "cell_type": "markdown",
   "metadata": {},
   "source": [
    "#### Breakdown by Governance Type"
   ]
  },
  {
   "cell_type": "code",
   "execution_count": 85,
   "metadata": {
    "collapsed": false
   },
   "outputs": [
    {
     "data": {
      "text/plain": [
       "province\n",
       "?              1396.937500\n",
       "Belarus                NaN\n",
       "Bialystok      3008.435897\n",
       "Bydgoszcz       951.545455\n",
       "Gdansk          572.300000\n",
       "Katowice       1903.409091\n",
       "Kielce         2074.209677\n",
       "Koszalin        409.615385\n",
       "Krakow         3978.588235\n",
       "Lithuania              NaN\n",
       "Lodz           4189.764706\n",
       "Lublin         2383.014286\n",
       "Lwow          23184.000000\n",
       "Olsztyn         155.700000\n",
       "Opole           511.333333\n",
       "Poznan         1847.125000\n",
       "Rzeszow        2560.642857\n",
       "Szczecin        466.200000\n",
       "Ukraine        2687.511111\n",
       "Warszawa     123094.852941\n",
       "Wroclaw        1388.333333\n",
       "Zielona         371.000000\n",
       "Name: pop1, dtype: float64"
      ]
     },
     "execution_count": 85,
     "metadata": {},
     "output_type": "execute_result"
    }
   ],
   "source": [
    "# mean population level by province\n",
    "df['pop1'].astype(float).groupby(df['province']).mean()"
   ]
  },
  {
   "cell_type": "code",
   "execution_count": 86,
   "metadata": {
    "collapsed": false
   },
   "outputs": [
    {
     "data": {
      "text/plain": [
       "?            263\n",
       "Ukraine       93\n",
       "Warszawa      90\n",
       "Lublin        76\n",
       "Kielce        69\n",
       "Lodz          59\n",
       "Poznan        59\n",
       "Bialystok     52\n",
       "Katowice      41\n",
       "Bydgoszcz     34\n",
       "Wroclaw       29\n",
       "Opole         25\n",
       "Zielona       23\n",
       "Koszalin      22\n",
       "Szczecin      20\n",
       "Olsztyn       19\n",
       "Krakow        18\n",
       "Gdansk        15\n",
       "Rzeszow       14\n",
       "Lwow           2\n",
       "Belarus        1\n",
       "Lithuania      1\n",
       "Name: province, dtype: int64"
      ]
     },
     "execution_count": 86,
     "metadata": {},
     "output_type": "execute_result"
    }
   ],
   "source": [
    "# number of shtetls per province\n",
    "df['province'].value_counts()"
   ]
  },
  {
   "cell_type": "code",
   "execution_count": 87,
   "metadata": {
    "collapsed": false
   },
   "outputs": [
    {
     "data": {
      "text/plain": [
       "gubernia\n",
       "?               1416.827586\n",
       "Galicia         2819.133333\n",
       "Grodno          8828.857143\n",
       "Kalisz          1668.366667\n",
       "Kielce          2226.652174\n",
       "Lomza           2351.739130\n",
       "Lublin          2612.743590\n",
       "Lwow             913.000000\n",
       "Piotrkow        5916.718750\n",
       "Plock           2150.333333\n",
       "Prussia          813.300000\n",
       "Radom           2594.850000\n",
       "Siedlce       503376.000000\n",
       "Stanislawo      3323.000000\n",
       "Suwalki         1569.333333\n",
       "Volynia         6539.000000\n",
       "Warszawa        7367.025641\n",
       "Name: pop1, dtype: float64"
      ]
     },
     "execution_count": 87,
     "metadata": {},
     "output_type": "execute_result"
    }
   ],
   "source": [
    "# mean population by gubernia (governate)\n",
    "df['pop1'].astype(float).groupby(df['gubernia']).mean()"
   ]
  },
  {
   "cell_type": "code",
   "execution_count": 88,
   "metadata": {
    "collapsed": false
   },
   "outputs": [
    {
     "data": {
      "text/plain": [
       "?             582\n",
       "Galicia       126\n",
       "Warszawa       42\n",
       "Lublin         41\n",
       "Piotrkow       35\n",
       "Kalisz         31\n",
       "Lomza          30\n",
       "Prussia        28\n",
       "Kielce         23\n",
       "Radom          22\n",
       "Plock          22\n",
       "Siedlce        16\n",
       "Suwalki        14\n",
       "Grodno          8\n",
       "Lwow            3\n",
       "Stanislawo      1\n",
       "Volynia         1\n",
       "Name: gubernia, dtype: int64"
      ]
     },
     "execution_count": 88,
     "metadata": {},
     "output_type": "execute_result"
    }
   ],
   "source": [
    "# freq count of shtetls by gubernia\n",
    "df['gubernia'].value_counts()"
   ]
  },
  {
   "cell_type": "code",
   "execution_count": 89,
   "metadata": {
    "collapsed": false
   },
   "outputs": [
    {
     "data": {
      "text/plain": [
       "region\n",
       "Germany           176.000000\n",
       "Grodno           6271.181818\n",
       "Kalisz           1689.333333\n",
       "Kherson          2642.000000\n",
       "Kielce           2036.911765\n",
       "Krakow           2554.862069\n",
       "Lomza            2324.500000\n",
       "Lublin           2126.810345\n",
       "Lwow             3086.160000\n",
       "Piotrkow         4750.166667\n",
       "Plock            2176.722222\n",
       "Prussia           952.691729\n",
       "Radom            2143.805556\n",
       "Siedlce        260620.838710\n",
       "Silesia           266.000000\n",
       "Stanislawow      3754.238095\n",
       "Suwalki          1436.666667\n",
       "Tarnopol         2428.622222\n",
       "Volhynia         6539.000000\n",
       "Warszawa         6033.769231\n",
       "Name: pop1, dtype: float64"
      ]
     },
     "execution_count": 89,
     "metadata": {},
     "output_type": "execute_result"
    }
   ],
   "source": [
    "# mean shtetl population by region\n",
    "df['pop1'].astype(float).groupby(df['region']).mean()"
   ]
  },
  {
   "cell_type": "code",
   "execution_count": 90,
   "metadata": {
    "collapsed": false
   },
   "outputs": [
    {
     "data": {
      "text/plain": [
       "Prussia        139\n",
       "Lublin          59\n",
       "Warszawa        52\n",
       "Lwow            51\n",
       "Tarnopol        45\n",
       "Piotrkow        42\n",
       "Radom           36\n",
       "Kalisz          36\n",
       "Kielce          34\n",
       "Siedlce         31\n",
       "Krakow          29\n",
       "Lomza           24\n",
       "Stanislawow     21\n",
       "Plock           18\n",
       "Suwalki         15\n",
       "Grodno          11\n",
       "Silesia          2\n",
       "Germany          1\n",
       "Volhynia         1\n",
       "Kherson          1\n",
       "Name: region, dtype: int64"
      ]
     },
     "execution_count": 90,
     "metadata": {},
     "output_type": "execute_result"
    }
   ],
   "source": [
    "# freq count of shtetls per region (all of Prussia is included under one, so it makes sense why it's so high)\n",
    "df['region'].value_counts()"
   ]
  },
  {
   "cell_type": "markdown",
   "metadata": {},
   "source": [
    "#### Breakdown by Population Differences (only shtetls with multiple years population data)"
   ]
  },
  {
   "cell_type": "code",
   "execution_count": 91,
   "metadata": {
    "collapsed": false
   },
   "outputs": [],
   "source": [
    "df['pop_diff'] = df['pop2'].astype(float) - df['pop1'].astype(float)"
   ]
  },
  {
   "cell_type": "code",
   "execution_count": 92,
   "metadata": {
    "collapsed": false
   },
   "outputs": [
    {
     "data": {
      "text/html": [
       "<div>\n",
       "<table border=\"1\" class=\"dataframe\">\n",
       "  <thead>\n",
       "    <tr style=\"text-align: right;\">\n",
       "      <th></th>\n",
       "      <th>gubernia</th>\n",
       "      <th>name</th>\n",
       "      <th>region</th>\n",
       "      <th>province</th>\n",
       "      <th>pop_diff</th>\n",
       "      <th>year1</th>\n",
       "      <th>year2</th>\n",
       "    </tr>\n",
       "  </thead>\n",
       "  <tbody>\n",
       "    <tr>\n",
       "      <th>444</th>\n",
       "      <td>Piotrkow</td>\n",
       "      <td>Lodz</td>\n",
       "      <td>Piotrkow</td>\n",
       "      <td>Lodz</td>\n",
       "      <td>104310.0</td>\n",
       "      <td>1897</td>\n",
       "      <td>1931</td>\n",
       "    </tr>\n",
       "    <tr>\n",
       "      <th>457</th>\n",
       "      <td>Lublin</td>\n",
       "      <td>Lublin</td>\n",
       "      <td>Lublin</td>\n",
       "      <td>Lublin</td>\n",
       "      <td>19244.0</td>\n",
       "      <td>1897</td>\n",
       "      <td>1939</td>\n",
       "    </tr>\n",
       "    <tr>\n",
       "      <th>668</th>\n",
       "      <td>Radom</td>\n",
       "      <td>Radom</td>\n",
       "      <td>Radom</td>\n",
       "      <td>Kielce</td>\n",
       "      <td>13882.0</td>\n",
       "      <td>1897</td>\n",
       "      <td>1931</td>\n",
       "    </tr>\n",
       "    <tr>\n",
       "      <th>139</th>\n",
       "      <td>Piotrkow</td>\n",
       "      <td>Czestochowa</td>\n",
       "      <td>Piotrkow</td>\n",
       "      <td>Katowice</td>\n",
       "      <td>13824.0</td>\n",
       "      <td>1897</td>\n",
       "      <td>1931</td>\n",
       "    </tr>\n",
       "    <tr>\n",
       "      <th>311</th>\n",
       "      <td>Kielce</td>\n",
       "      <td>Kielce</td>\n",
       "      <td>Kielce</td>\n",
       "      <td>Kielce</td>\n",
       "      <td>11910.0</td>\n",
       "      <td>1897</td>\n",
       "      <td>1931</td>\n",
       "    </tr>\n",
       "  </tbody>\n",
       "</table>\n",
       "</div>"
      ],
      "text/plain": [
       "     gubernia         name    region  province  pop_diff year1 year2\n",
       "444  Piotrkow         Lodz  Piotrkow      Lodz  104310.0  1897  1931\n",
       "457    Lublin       Lublin    Lublin    Lublin   19244.0  1897  1939\n",
       "668     Radom        Radom     Radom    Kielce   13882.0  1897  1931\n",
       "139  Piotrkow  Czestochowa  Piotrkow  Katowice   13824.0  1897  1931\n",
       "311    Kielce       Kielce    Kielce    Kielce   11910.0  1897  1931"
      ]
     },
     "execution_count": 92,
     "metadata": {},
     "output_type": "execute_result"
    }
   ],
   "source": [
    "# top 5 shtetls with highest gross population increase\n",
    "df[df['pop_diff'].notnull()][['gubernia','name','region','province','pop_diff','year1','year2']].sort_values(by=['pop_diff'],ascending=False).head()"
   ]
  },
  {
   "cell_type": "code",
   "execution_count": 93,
   "metadata": {
    "collapsed": false
   },
   "outputs": [
    {
     "data": {
      "text/html": [
       "<div>\n",
       "<table border=\"1\" class=\"dataframe\">\n",
       "  <thead>\n",
       "    <tr style=\"text-align: right;\">\n",
       "      <th></th>\n",
       "      <th>gubernia</th>\n",
       "      <th>name</th>\n",
       "      <th>region</th>\n",
       "      <th>province</th>\n",
       "      <th>pop_diff</th>\n",
       "      <th>year1</th>\n",
       "      <th>year2</th>\n",
       "    </tr>\n",
       "  </thead>\n",
       "  <tbody>\n",
       "    <tr>\n",
       "      <th>309</th>\n",
       "      <td>Kalisz</td>\n",
       "      <td>Kepno</td>\n",
       "      <td>Prussia</td>\n",
       "      <td>Poznan</td>\n",
       "      <td>-3261.0</td>\n",
       "      <td>1840</td>\n",
       "      <td>1910</td>\n",
       "    </tr>\n",
       "    <tr>\n",
       "      <th>34</th>\n",
       "      <td>Grodno</td>\n",
       "      <td>Bialystok</td>\n",
       "      <td>Grodno</td>\n",
       "      <td>Bialystok</td>\n",
       "      <td>-2843.0</td>\n",
       "      <td>1895</td>\n",
       "      <td>1939</td>\n",
       "    </tr>\n",
       "    <tr>\n",
       "      <th>327</th>\n",
       "      <td>Grodno</td>\n",
       "      <td>Knyszyn</td>\n",
       "      <td>Grodno</td>\n",
       "      <td>?</td>\n",
       "      <td>-2307.0</td>\n",
       "      <td>1897</td>\n",
       "      <td>1921</td>\n",
       "    </tr>\n",
       "    <tr>\n",
       "      <th>431</th>\n",
       "      <td>?</td>\n",
       "      <td>Leszno</td>\n",
       "      <td>Prussia</td>\n",
       "      <td>?</td>\n",
       "      <td>-2240.0</td>\n",
       "      <td>1840</td>\n",
       "      <td>1895</td>\n",
       "    </tr>\n",
       "    <tr>\n",
       "      <th>64</th>\n",
       "      <td>?</td>\n",
       "      <td>Bolszowce</td>\n",
       "      <td>Prussia</td>\n",
       "      <td>?</td>\n",
       "      <td>-2240.0</td>\n",
       "      <td>1840</td>\n",
       "      <td>1895</td>\n",
       "    </tr>\n",
       "  </tbody>\n",
       "</table>\n",
       "</div>"
      ],
      "text/plain": [
       "    gubernia       name   region   province  pop_diff year1 year2\n",
       "309   Kalisz      Kepno  Prussia     Poznan   -3261.0  1840  1910\n",
       "34    Grodno  Bialystok   Grodno  Bialystok   -2843.0  1895  1939\n",
       "327   Grodno    Knyszyn   Grodno          ?   -2307.0  1897  1921\n",
       "431        ?     Leszno  Prussia          ?   -2240.0  1840  1895\n",
       "64         ?  Bolszowce  Prussia          ?   -2240.0  1840  1895"
      ]
     },
     "execution_count": 93,
     "metadata": {},
     "output_type": "execute_result"
    }
   ],
   "source": [
    "# top 5 shtetls with highest gross population decrease\n",
    "df[df['pop_diff'].notnull()][['gubernia','name','region','province','pop_diff','year1','year2']].sort_values(by=['pop_diff'],ascending=True).head()"
   ]
  },
  {
   "cell_type": "code",
   "execution_count": 94,
   "metadata": {
    "collapsed": false
   },
   "outputs": [],
   "source": [
    "df['year_diff'] = df['year2'].astype(float) - df['year1'].astype(float)"
   ]
  },
  {
   "cell_type": "code",
   "execution_count": 95,
   "metadata": {
    "collapsed": false,
    "scrolled": true
   },
   "outputs": [
    {
     "data": {
      "text/html": [
       "<div>\n",
       "<table border=\"1\" class=\"dataframe\">\n",
       "  <thead>\n",
       "    <tr style=\"text-align: right;\">\n",
       "      <th></th>\n",
       "      <th>gubernia</th>\n",
       "      <th>name</th>\n",
       "      <th>region</th>\n",
       "      <th>province</th>\n",
       "      <th>year1</th>\n",
       "      <th>year2</th>\n",
       "      <th>year_diff</th>\n",
       "      <th>pop_diff</th>\n",
       "    </tr>\n",
       "  </thead>\n",
       "  <tbody>\n",
       "    <tr>\n",
       "      <th>197</th>\n",
       "      <td>?</td>\n",
       "      <td>Glogow</td>\n",
       "      <td>Prussia</td>\n",
       "      <td>Zielona</td>\n",
       "      <td>1756</td>\n",
       "      <td>1900</td>\n",
       "      <td>144.0</td>\n",
       "      <td>-928.0</td>\n",
       "    </tr>\n",
       "    <tr>\n",
       "      <th>229</th>\n",
       "      <td>Radom</td>\n",
       "      <td>Granica</td>\n",
       "      <td>Radom</td>\n",
       "      <td>Kielce</td>\n",
       "      <td>1827</td>\n",
       "      <td>1921</td>\n",
       "      <td>94.0</td>\n",
       "      <td>-188.0</td>\n",
       "    </tr>\n",
       "    <tr>\n",
       "      <th>849</th>\n",
       "      <td>?</td>\n",
       "      <td>Szydlow</td>\n",
       "      <td>Kielce</td>\n",
       "      <td>Kielce</td>\n",
       "      <td>1827</td>\n",
       "      <td>1921</td>\n",
       "      <td>94.0</td>\n",
       "      <td>-479.0</td>\n",
       "    </tr>\n",
       "    <tr>\n",
       "      <th>657</th>\n",
       "      <td>?</td>\n",
       "      <td>Pszczew</td>\n",
       "      <td>Prussia</td>\n",
       "      <td>Zielona</td>\n",
       "      <td>1840</td>\n",
       "      <td>1933</td>\n",
       "      <td>93.0</td>\n",
       "      <td>-145.0</td>\n",
       "    </tr>\n",
       "    <tr>\n",
       "      <th>210</th>\n",
       "      <td>?</td>\n",
       "      <td>Goleniow</td>\n",
       "      <td>Prussia</td>\n",
       "      <td>Szczecin</td>\n",
       "      <td>1840</td>\n",
       "      <td>1933</td>\n",
       "      <td>93.0</td>\n",
       "      <td>-92.0</td>\n",
       "    </tr>\n",
       "  </tbody>\n",
       "</table>\n",
       "</div>"
      ],
      "text/plain": [
       "    gubernia      name   region  province year1 year2  year_diff  pop_diff\n",
       "197        ?    Glogow  Prussia   Zielona  1756  1900      144.0    -928.0\n",
       "229    Radom   Granica    Radom    Kielce  1827  1921       94.0    -188.0\n",
       "849        ?   Szydlow   Kielce    Kielce  1827  1921       94.0    -479.0\n",
       "657        ?   Pszczew  Prussia   Zielona  1840  1933       93.0    -145.0\n",
       "210        ?  Goleniow  Prussia  Szczecin  1840  1933       93.0     -92.0"
      ]
     },
     "execution_count": 95,
     "metadata": {},
     "output_type": "execute_result"
    }
   ],
   "source": [
    "# top 5 year differences between population values\n",
    "df[df['year_diff'].notnull()][['gubernia','name','region','province','year1','year2','year_diff','pop_diff']].sort_values(by=['year_diff'],ascending=False).head()"
   ]
  },
  {
   "cell_type": "code",
   "execution_count": 96,
   "metadata": {
    "collapsed": true
   },
   "outputs": [],
   "source": [
    "df['pop_diff_year'] = df['pop_diff'].astype(float) / df['year_diff'].astype(float)"
   ]
  },
  {
   "cell_type": "code",
   "execution_count": 97,
   "metadata": {
    "collapsed": false,
    "scrolled": true
   },
   "outputs": [
    {
     "data": {
      "text/html": [
       "<div>\n",
       "<table border=\"1\" class=\"dataframe\">\n",
       "  <thead>\n",
       "    <tr style=\"text-align: right;\">\n",
       "      <th></th>\n",
       "      <th>gubernia</th>\n",
       "      <th>name</th>\n",
       "      <th>region</th>\n",
       "      <th>province</th>\n",
       "      <th>year1</th>\n",
       "      <th>year2</th>\n",
       "      <th>year_diff</th>\n",
       "      <th>pop_diff</th>\n",
       "      <th>pop_diff_year</th>\n",
       "    </tr>\n",
       "  </thead>\n",
       "  <tbody>\n",
       "    <tr>\n",
       "      <th>444</th>\n",
       "      <td>Piotrkow</td>\n",
       "      <td>Lodz</td>\n",
       "      <td>Piotrkow</td>\n",
       "      <td>Lodz</td>\n",
       "      <td>1897</td>\n",
       "      <td>1931</td>\n",
       "      <td>34.0</td>\n",
       "      <td>104310.0</td>\n",
       "      <td>3067.941176</td>\n",
       "    </tr>\n",
       "    <tr>\n",
       "      <th>775</th>\n",
       "      <td>?</td>\n",
       "      <td>Sosnowiec</td>\n",
       "      <td>Piotrkow</td>\n",
       "      <td>?</td>\n",
       "      <td>1897</td>\n",
       "      <td>1921</td>\n",
       "      <td>24.0</td>\n",
       "      <td>11173.0</td>\n",
       "      <td>465.541667</td>\n",
       "    </tr>\n",
       "    <tr>\n",
       "      <th>457</th>\n",
       "      <td>Lublin</td>\n",
       "      <td>Lublin</td>\n",
       "      <td>Lublin</td>\n",
       "      <td>Lublin</td>\n",
       "      <td>1897</td>\n",
       "      <td>1939</td>\n",
       "      <td>42.0</td>\n",
       "      <td>19244.0</td>\n",
       "      <td>458.190476</td>\n",
       "    </tr>\n",
       "    <tr>\n",
       "      <th>668</th>\n",
       "      <td>Radom</td>\n",
       "      <td>Radom</td>\n",
       "      <td>Radom</td>\n",
       "      <td>Kielce</td>\n",
       "      <td>1897</td>\n",
       "      <td>1931</td>\n",
       "      <td>34.0</td>\n",
       "      <td>13882.0</td>\n",
       "      <td>408.294118</td>\n",
       "    </tr>\n",
       "    <tr>\n",
       "      <th>139</th>\n",
       "      <td>Piotrkow</td>\n",
       "      <td>Czestochowa</td>\n",
       "      <td>Piotrkow</td>\n",
       "      <td>Katowice</td>\n",
       "      <td>1897</td>\n",
       "      <td>1931</td>\n",
       "      <td>34.0</td>\n",
       "      <td>13824.0</td>\n",
       "      <td>406.588235</td>\n",
       "    </tr>\n",
       "  </tbody>\n",
       "</table>\n",
       "</div>"
      ],
      "text/plain": [
       "     gubernia         name    region  province year1 year2  year_diff  \\\n",
       "444  Piotrkow         Lodz  Piotrkow      Lodz  1897  1931       34.0   \n",
       "775         ?    Sosnowiec  Piotrkow         ?  1897  1921       24.0   \n",
       "457    Lublin       Lublin    Lublin    Lublin  1897  1939       42.0   \n",
       "668     Radom        Radom     Radom    Kielce  1897  1931       34.0   \n",
       "139  Piotrkow  Czestochowa  Piotrkow  Katowice  1897  1931       34.0   \n",
       "\n",
       "     pop_diff  pop_diff_year  \n",
       "444  104310.0    3067.941176  \n",
       "775   11173.0     465.541667  \n",
       "457   19244.0     458.190476  \n",
       "668   13882.0     408.294118  \n",
       "139   13824.0     406.588235  "
      ]
     },
     "execution_count": 97,
     "metadata": {},
     "output_type": "execute_result"
    }
   ],
   "source": [
    "# top 5 shtetls based on time-weighted population increase\n",
    "df[df['pop_diff_year'].notnull()][['gubernia','name','region','province','year1','year2','year_diff','pop_diff','pop_diff_year']].sort_values(by=['pop_diff_year'],ascending=False).head()"
   ]
  },
  {
   "cell_type": "code",
   "execution_count": 98,
   "metadata": {
    "collapsed": false
   },
   "outputs": [
    {
     "data": {
      "text/html": [
       "<div>\n",
       "<table border=\"1\" class=\"dataframe\">\n",
       "  <thead>\n",
       "    <tr style=\"text-align: right;\">\n",
       "      <th></th>\n",
       "      <th>gubernia</th>\n",
       "      <th>name</th>\n",
       "      <th>region</th>\n",
       "      <th>province</th>\n",
       "      <th>year1</th>\n",
       "      <th>year2</th>\n",
       "      <th>year_diff</th>\n",
       "      <th>pop_diff</th>\n",
       "      <th>pop_diff_year</th>\n",
       "    </tr>\n",
       "  </thead>\n",
       "  <tbody>\n",
       "    <tr>\n",
       "      <th>327</th>\n",
       "      <td>Grodno</td>\n",
       "      <td>Knyszyn</td>\n",
       "      <td>Grodno</td>\n",
       "      <td>?</td>\n",
       "      <td>1897</td>\n",
       "      <td>1921</td>\n",
       "      <td>24.0</td>\n",
       "      <td>-2307.0</td>\n",
       "      <td>-96.125000</td>\n",
       "    </tr>\n",
       "    <tr>\n",
       "      <th>982</th>\n",
       "      <td>Galicia</td>\n",
       "      <td>Zalozce</td>\n",
       "      <td>Tarnopol</td>\n",
       "      <td>Ukraine</td>\n",
       "      <td>1900</td>\n",
       "      <td>1921</td>\n",
       "      <td>21.0</td>\n",
       "      <td>-1873.0</td>\n",
       "      <td>-89.190476</td>\n",
       "    </tr>\n",
       "    <tr>\n",
       "      <th>39</th>\n",
       "      <td>Grodno</td>\n",
       "      <td>Bielsk Podlaski</td>\n",
       "      <td>Grodno</td>\n",
       "      <td>Bialystok</td>\n",
       "      <td>1897</td>\n",
       "      <td>1921</td>\n",
       "      <td>24.0</td>\n",
       "      <td>-1687.0</td>\n",
       "      <td>-70.291667</td>\n",
       "    </tr>\n",
       "    <tr>\n",
       "      <th>33</th>\n",
       "      <td>Galicia</td>\n",
       "      <td>Bialy Kamien</td>\n",
       "      <td>Tarnopol</td>\n",
       "      <td>Ukraine</td>\n",
       "      <td>1900</td>\n",
       "      <td>1921</td>\n",
       "      <td>21.0</td>\n",
       "      <td>-1406.0</td>\n",
       "      <td>-66.952381</td>\n",
       "    </tr>\n",
       "    <tr>\n",
       "      <th>34</th>\n",
       "      <td>Grodno</td>\n",
       "      <td>Bialystok</td>\n",
       "      <td>Grodno</td>\n",
       "      <td>Bialystok</td>\n",
       "      <td>1895</td>\n",
       "      <td>1939</td>\n",
       "      <td>44.0</td>\n",
       "      <td>-2843.0</td>\n",
       "      <td>-64.613636</td>\n",
       "    </tr>\n",
       "  </tbody>\n",
       "</table>\n",
       "</div>"
      ],
      "text/plain": [
       "    gubernia             name    region   province year1 year2  year_diff  \\\n",
       "327   Grodno          Knyszyn    Grodno          ?  1897  1921       24.0   \n",
       "982  Galicia          Zalozce  Tarnopol    Ukraine  1900  1921       21.0   \n",
       "39    Grodno  Bielsk Podlaski    Grodno  Bialystok  1897  1921       24.0   \n",
       "33   Galicia     Bialy Kamien  Tarnopol    Ukraine  1900  1921       21.0   \n",
       "34    Grodno        Bialystok    Grodno  Bialystok  1895  1939       44.0   \n",
       "\n",
       "     pop_diff  pop_diff_year  \n",
       "327   -2307.0     -96.125000  \n",
       "982   -1873.0     -89.190476  \n",
       "39    -1687.0     -70.291667  \n",
       "33    -1406.0     -66.952381  \n",
       "34    -2843.0     -64.613636  "
      ]
     },
     "execution_count": 98,
     "metadata": {},
     "output_type": "execute_result"
    }
   ],
   "source": [
    "# top 5 shtetls based on time-weighted population decrease\n",
    "df[df['pop_diff_year'].notnull()][['gubernia','name','region','province','year1','year2','year_diff','pop_diff','pop_diff_year']].sort_values(by=['pop_diff_year'],ascending=True).head()"
   ]
  },
  {
   "cell_type": "markdown",
   "metadata": {},
   "source": [
    "### Parse Long and Lat and Export Data"
   ]
  },
  {
   "cell_type": "code",
   "execution_count": 99,
   "metadata": {
    "collapsed": true
   },
   "outputs": [],
   "source": [
    "def isNaN(num):\n",
    "    return num != num"
   ]
  },
  {
   "cell_type": "code",
   "execution_count": 100,
   "metadata": {
    "collapsed": false
   },
   "outputs": [],
   "source": [
    "google_maps = df.google_maps\n",
    "google_lat = []\n",
    "google_long = []\n",
    "for x in google_maps:\n",
    "    if isNaN(x):\n",
    "        google_lat.append(x)\n",
    "        google_long.append(x) \n",
    "        continue\n",
    "    currCoor = re.search('ll=(.*)&z=', x).group(1).split(\",\")\n",
    "    google_lat.append(currCoor[0])\n",
    "    google_long.append(currCoor[1])"
   ]
  },
  {
   "cell_type": "code",
   "execution_count": 101,
   "metadata": {
    "collapsed": true
   },
   "outputs": [],
   "source": [
    "df['google_lat'] = google_lat\n",
    "df['google_long'] = google_long"
   ]
  },
  {
   "cell_type": "code",
   "execution_count": 102,
   "metadata": {
    "collapsed": false
   },
   "outputs": [
    {
     "data": {
      "text/plain": [
       "Index(['alt_name_x', 'gubernia', 'href', 'lat', 'long', 'name', 'province',\n",
       "       'google_maps', 'jewish_gen', 'usbgn', 'alt_name_y', 'notes',\n",
       "       'population', 'region', 'pop1', 'year1', 'pop2', 'year2', 'pop_diff',\n",
       "       'year_diff', 'pop_diff_year', 'google_lat', 'google_long'],\n",
       "      dtype='object')"
      ]
     },
     "execution_count": 102,
     "metadata": {},
     "output_type": "execute_result"
    }
   ],
   "source": [
    "df.columns"
   ]
  },
  {
   "cell_type": "code",
   "execution_count": 103,
   "metadata": {
    "collapsed": true
   },
   "outputs": [],
   "source": [
    "df.to_csv(\"~/shtetls/data/additional_shtetl_data.csv\",index = False)"
   ]
  }
 ],
 "metadata": {
  "kernelspec": {
   "display_name": "Python 3",
   "language": "python",
   "name": "python3"
  },
  "language_info": {
   "codemirror_mode": {
    "name": "ipython",
    "version": 3
   },
   "file_extension": ".py",
   "mimetype": "text/x-python",
   "name": "python",
   "nbconvert_exporter": "python",
   "pygments_lexer": "ipython3",
   "version": "3.5.2"
  }
 },
 "nbformat": 4,
 "nbformat_minor": 1
}
