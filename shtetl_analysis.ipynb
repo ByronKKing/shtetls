{
 "cells": [
  {
   "cell_type": "code",
   "execution_count": 29,
   "metadata": {
    "collapsed": true
   },
   "outputs": [],
   "source": [
    "import pandas as pd\n",
    "import re"
   ]
  },
  {
   "cell_type": "code",
   "execution_count": 2,
   "metadata": {
    "collapsed": false
   },
   "outputs": [],
   "source": [
    "df = pd.read_csv(\"~/Desktop/all_towns.csv\",encoding=\"utf-8\")"
   ]
  },
  {
   "cell_type": "code",
   "execution_count": 3,
   "metadata": {
    "collapsed": false
   },
   "outputs": [],
   "source": [
    "df.region = df.region.str.replace(\"Region: \",\"\")"
   ]
  },
  {
   "cell_type": "code",
   "execution_count": 15,
   "metadata": {
    "collapsed": false,
    "scrolled": false
   },
   "outputs": [
    {
     "name": "stdout",
     "output_type": "stream",
     "text": [
      "2\n"
     ]
    }
   ],
   "source": [
    "xx = df.population.str.split(\"\\), \")\n",
    "y = 1\n",
    "for x in xx:\n",
    "    try:\n",
    "        if len(x) > y:\n",
    "            y = len(x)\n",
    "    except:\n",
    "        pass\n",
    "print(y)"
   ]
  },
  {
   "cell_type": "code",
   "execution_count": null,
   "metadata": {
    "collapsed": true
   },
   "outputs": [],
   "source": [
    "popList = df.population.str.split(\"\\), \")"
   ]
  },
  {
   "cell_type": "code",
   "execution_count": 126,
   "metadata": {
    "collapsed": true
   },
   "outputs": [],
   "source": [
    "temp = []\n",
    "for x in popList:\n",
    "    try:\n",
    "        temp.append(x[0])\n",
    "    except:\n",
    "        temp.append(x)\n",
    "\n",
    "pop1 = []\n",
    "for x in temp:\n",
    "    try:\n",
    "        pop1.append(x.split(\"(\")[0])\n",
    "    except:\n",
    "        pop1.append(x)\n",
    "\n",
    "df.pop1 = pd.Series(pop1)\n",
    "df.pop1 = df.pop1.str.replace(\",\",\"\").str.strip()"
   ]
  },
  {
   "cell_type": "code",
   "execution_count": 149,
   "metadata": {
    "collapsed": false
   },
   "outputs": [],
   "source": [
    "temp = []\n",
    "for x in popList:\n",
    "    try:\n",
    "        temp.append(x[0])\n",
    "    except:\n",
    "        temp.append(x)\n",
    "\n",
    "year1 = []\n",
    "for x in temp:\n",
    "    try:\n",
    "        year1.append(x.split(\"(\")[1])\n",
    "    except:\n",
    "        year1.append(x)\n",
    "\n",
    "df.year1 = pd.Series(year1)\n",
    "df.year1 = df.year1"
   ]
  },
  {
   "cell_type": "code",
   "execution_count": 153,
   "metadata": {
    "collapsed": false
   },
   "outputs": [],
   "source": [
    "temp = []\n",
    "for x in popList:\n",
    "    try:\n",
    "        temp.append(x[1])\n",
    "    except:\n",
    "        0\n",
    "\n",
    "pop2 = []\n",
    "for x in temp:\n",
    "    try:\n",
    "        pop2.append(x.split(\"(\")[0])\n",
    "    except:\n",
    "        pop2.append(x)\n",
    "\n",
    "df.pop2 = pd.Series(pop2)"
   ]
  },
  {
   "cell_type": "code",
   "execution_count": 155,
   "metadata": {
    "collapsed": true
   },
   "outputs": [],
   "source": [
    "temp = []\n",
    "for x in popList:\n",
    "    try:\n",
    "        temp.append(x[1])\n",
    "    except:\n",
    "        0\n",
    "\n",
    "year2 = []\n",
    "for x in temp:\n",
    "    try:\n",
    "        year2.append(x.split(\"(\")[1])\n",
    "    except:\n",
    "        year2.append(x)\n",
    "\n",
    "df.pop2 = pd.Series(year2)"
   ]
  },
  {
   "cell_type": "code",
   "execution_count": null,
   "metadata": {
    "collapsed": true
   },
   "outputs": [],
   "source": []
  },
  {
   "cell_type": "code",
   "execution_count": null,
   "metadata": {
    "collapsed": true
   },
   "outputs": [],
   "source": []
  },
  {
   "cell_type": "code",
   "execution_count": null,
   "metadata": {
    "collapsed": true
   },
   "outputs": [],
   "source": []
  },
  {
   "cell_type": "code",
   "execution_count": 145,
   "metadata": {
    "collapsed": false
   },
   "outputs": [
    {
     "data": {
      "text/plain": [
       "3637"
      ]
     },
     "execution_count": 145,
     "metadata": {},
     "output_type": "execute_result"
    }
   ],
   "source": [
    "int(df.population[3].split(\"), \")[0].split(\"(\")[0].replace(\",\",\"\").strip())"
   ]
  },
  {
   "cell_type": "code",
   "execution_count": 146,
   "metadata": {
    "collapsed": false
   },
   "outputs": [
    {
     "data": {
      "text/plain": [
       "1897"
      ]
     },
     "execution_count": 146,
     "metadata": {},
     "output_type": "execute_result"
    }
   ],
   "source": [
    "int(re.sub('[^0-9]','', df.population[3].split(\"), \")[0].split(\"(\")[1]))"
   ]
  },
  {
   "cell_type": "code",
   "execution_count": 31,
   "metadata": {
    "collapsed": false
   },
   "outputs": [
    {
     "data": {
      "text/plain": [
       "2397"
      ]
     },
     "execution_count": 31,
     "metadata": {},
     "output_type": "execute_result"
    }
   ],
   "source": [
    "int(df.population[3].split(\"), \")[1].split(\"(\")[0].replace(\",\",\"\").strip())"
   ]
  },
  {
   "cell_type": "code",
   "execution_count": 33,
   "metadata": {
    "collapsed": false
   },
   "outputs": [
    {
     "data": {
      "text/plain": [
       "1931"
      ]
     },
     "execution_count": 33,
     "metadata": {},
     "output_type": "execute_result"
    }
   ],
   "source": [
    "int(re.sub('[^0-9]','',df.population[3].split(\"), \")[1].split(\"(\")[1]))"
   ]
  }
 ],
 "metadata": {
  "kernelspec": {
   "display_name": "Python 3",
   "language": "python",
   "name": "python3"
  },
  "language_info": {
   "codemirror_mode": {
    "name": "ipython",
    "version": 3
   },
   "file_extension": ".py",
   "mimetype": "text/x-python",
   "name": "python",
   "nbconvert_exporter": "python",
   "pygments_lexer": "ipython3",
   "version": "3.5.2"
  }
 },
 "nbformat": 4,
 "nbformat_minor": 1
}
